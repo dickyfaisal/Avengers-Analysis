{
 "cells": [
  {
   "cell_type": "markdown",
   "metadata": {},
   "source": [
    "# Avengers Analysis"
   ]
  },
  {
   "cell_type": "markdown",
   "metadata": {},
   "source": [
    "Dalam analisis anggota Avengers ini Saya menggunakan dataset dari github fivethirtyeight yang dapat diakses <a href=\"https://github.com/fivethirtyeight/data/tree/master/avengers\">disini</a>.\n",
    "<p>Dataset tersebut merinci kematian karakter buku komik Marvel dari mereka bergabung dengan Avengers sampai 30 April 2015, seminggu sebelum Secret Wars # 1. Berikut penjelasan tiap kolomnya</p>\n",
    "<ul>\n",
    "<li>`URL`| URL karakter di Marvel Wikia</li>\n",
    "<li>`Name/Alias` | Nama lengkap atau alias dari karakter</li>\n",
    "<li>`Appearances` | Jumlah tampil karakter sampai 30 April 2015 </li>\n",
    "<li>`Current?` | Apakah karakter masih terafliasi dengan team Avengers?</li>\n",
    "<li>`Gender` | Jenis kelamin dari karakter</li>\n",
    "<li>`Probationary` | Terkadang karakter diberi status percobaan sebagai Anggota Avengers, dan kolom ini menyebutkan tanggalnya</li>\n",
    "<li>`Full/Reserve` | Bulan dan tahun karakter diperkenalkan sebagai anggota penuh atau cadangan dari Avengers</li>\n",
    "<li>`Year` | Tahun karakter diperkenalkan sebagai anggota penuh atau cadangan Avengers</li>\n",
    "<li>`Years since joining` | 2015 dikurangi 'Year'</li>\n",
    "<li>`Honorary` | Status anggota, Apakah anggota \"Honorary\", \"Academy\", atau \"Full\"</li>\n",
    "<li>`Death1` | 'YES' jika meninggal, 'NO' Jika Tidak. </li>\n",
    "<li>`Return1` | 'YES' jika hidup kembali dari kematian pertama, 'NO' jika tidak, Kosong jika tidak dapat diterapkan</li>\n",
    "<li>`Death2` | 'YES' jika mati setelah kebangkitan pertama, 'NO' jika tidak, Kosong jika tidak dapat diterapkan</li>\n",
    "<li>`Return2` | 'YES' jika hidup kembali dari kematian kedua, 'NO' jika tidak, Kosong jika tidak dapat diterapkan</li>\n",
    "<li>`Death3` | 'YES' jika mati setelah kebangkitan kedua, 'NO' jika tidak, Kosong jika tidak dapat diterapkan</li>\n",
    "<li>`Return3` | 'YES' jika hidup kembali dari kematian ketiga, 'NO' jika tidak, Kosong jika tidak dapat diterapkan</li>\n",
    "<li>`Death4` | 'YES' jika mati setelah kebangkitan ketiga, 'NO' jika tidak, Kosong jika tidak dapat diterapkan</li>\n",
    "<li>`Return4` | 'YES' jika hidup kembali dari kematian keempat, 'NO' jika tidak, Kosong jika tidak dapat diterapkan</li>\n",
    "<li>`Death5` | 'YES' jika mati setelah kebangkitan keempat, 'NO' jika tidak, Kosong jika tidak dapat diterapkan</li>\n",
    "<li>`Return5` | 'YES' jika hidup kembali dari kematian kelima, 'NO' jika tidak, Kosong jika tidak dapat diterapkan</li>\n",
    "<li>`Notes` | Deskripsi dari kematian dan kebangkitan.\n",
    "</ul>\n",
    "\n",
    "| CATATAN: Ada penyesuaian kolom 'Year' karena ada beberapa anggota yang belum diinput data sehingga valuenya default \"1990\" mengakibatkan kolom 'Years since joining' kurang akurat. Data kolom 'Year' Saya perbaharui dengan disesuaikan dengan tahun \"First Appereance\" pada URL anggota/karakter. Selebihnya analisis menggunakan data seadanya ! |\n",
    "| --- |"
   ]
  },
  {
   "cell_type": "markdown",
   "metadata": {},
   "source": [
    "<h2>Setup Dan Load Dataset</h2>"
   ]
  },
  {
   "cell_type": "code",
   "execution_count": 1,
   "metadata": {},
   "outputs": [],
   "source": [
    "import pandas as pd"
   ]
  },
  {
   "cell_type": "code",
   "execution_count": 2,
   "metadata": {},
   "outputs": [],
   "source": [
    "import seaborn as sns"
   ]
  },
  {
   "cell_type": "code",
   "execution_count": 3,
   "metadata": {},
   "outputs": [],
   "source": [
    "avengers = pd.read_csv('avengers.csv', encoding='latin-1')"
   ]
  },
  {
   "cell_type": "markdown",
   "metadata": {},
   "source": [
    "<h2>Informasi Dataset</h2>"
   ]
  },
  {
   "cell_type": "code",
   "execution_count": 4,
   "metadata": {
    "scrolled": true
   },
   "outputs": [
    {
     "name": "stdout",
     "output_type": "stream",
     "text": [
      "<class 'pandas.core.frame.DataFrame'>\n",
      "RangeIndex: 173 entries, 0 to 172\n",
      "Data columns (total 21 columns):\n",
      "URL                            173 non-null object\n",
      "Name/Alias                     163 non-null object\n",
      "Appearances                    173 non-null int64\n",
      "Current?                       173 non-null object\n",
      "Gender                         173 non-null object\n",
      "Probationary Introl            15 non-null object\n",
      "Full/Reserve Avengers Intro    159 non-null object\n",
      "Year                           173 non-null int64\n",
      "Years since joining            173 non-null int64\n",
      "Honorary                       173 non-null object\n",
      "Death1                         173 non-null object\n",
      "Return1                        69 non-null object\n",
      "Death2                         17 non-null object\n",
      "Return2                        16 non-null object\n",
      "Death3                         2 non-null object\n",
      "Return3                        2 non-null object\n",
      "Death4                         1 non-null object\n",
      "Return4                        1 non-null object\n",
      "Death5                         1 non-null object\n",
      "Return5                        1 non-null object\n",
      "Notes                          75 non-null object\n",
      "dtypes: int64(3), object(18)\n",
      "memory usage: 28.5+ KB\n"
     ]
    }
   ],
   "source": [
    "avengers.info()"
   ]
  },
  {
   "cell_type": "code",
   "execution_count": 5,
   "metadata": {},
   "outputs": [
    {
     "data": {
      "text/html": [
       "<div>\n",
       "<style scoped>\n",
       "    .dataframe tbody tr th:only-of-type {\n",
       "        vertical-align: middle;\n",
       "    }\n",
       "\n",
       "    .dataframe tbody tr th {\n",
       "        vertical-align: top;\n",
       "    }\n",
       "\n",
       "    .dataframe thead th {\n",
       "        text-align: right;\n",
       "    }\n",
       "</style>\n",
       "<table border=\"1\" class=\"dataframe\">\n",
       "  <thead>\n",
       "    <tr style=\"text-align: right;\">\n",
       "      <th></th>\n",
       "      <th>URL</th>\n",
       "      <th>Name/Alias</th>\n",
       "      <th>Appearances</th>\n",
       "      <th>Current?</th>\n",
       "      <th>Gender</th>\n",
       "      <th>Probationary Introl</th>\n",
       "      <th>Full/Reserve Avengers Intro</th>\n",
       "      <th>Year</th>\n",
       "      <th>Years since joining</th>\n",
       "      <th>Honorary</th>\n",
       "      <th>...</th>\n",
       "      <th>Return1</th>\n",
       "      <th>Death2</th>\n",
       "      <th>Return2</th>\n",
       "      <th>Death3</th>\n",
       "      <th>Return3</th>\n",
       "      <th>Death4</th>\n",
       "      <th>Return4</th>\n",
       "      <th>Death5</th>\n",
       "      <th>Return5</th>\n",
       "      <th>Notes</th>\n",
       "    </tr>\n",
       "  </thead>\n",
       "  <tbody>\n",
       "    <tr>\n",
       "      <td>0</td>\n",
       "      <td>http://marvel.wikia.com/Henry_Pym_(Earth-616)</td>\n",
       "      <td>Henry Jonathan \"Hank\" Pym</td>\n",
       "      <td>1269</td>\n",
       "      <td>YES</td>\n",
       "      <td>MALE</td>\n",
       "      <td>NaN</td>\n",
       "      <td>Sep-63</td>\n",
       "      <td>1963</td>\n",
       "      <td>52</td>\n",
       "      <td>Full</td>\n",
       "      <td>...</td>\n",
       "      <td>NO</td>\n",
       "      <td>NaN</td>\n",
       "      <td>NaN</td>\n",
       "      <td>NaN</td>\n",
       "      <td>NaN</td>\n",
       "      <td>NaN</td>\n",
       "      <td>NaN</td>\n",
       "      <td>NaN</td>\n",
       "      <td>NaN</td>\n",
       "      <td>Merged with Ultron in Rage of Ultron Vol. 1. A...</td>\n",
       "    </tr>\n",
       "    <tr>\n",
       "      <td>1</td>\n",
       "      <td>http://marvel.wikia.com/Janet_van_Dyne_(Earth-...</td>\n",
       "      <td>Janet van Dyne</td>\n",
       "      <td>1165</td>\n",
       "      <td>YES</td>\n",
       "      <td>FEMALE</td>\n",
       "      <td>NaN</td>\n",
       "      <td>Sep-63</td>\n",
       "      <td>1963</td>\n",
       "      <td>52</td>\n",
       "      <td>Full</td>\n",
       "      <td>...</td>\n",
       "      <td>YES</td>\n",
       "      <td>NaN</td>\n",
       "      <td>NaN</td>\n",
       "      <td>NaN</td>\n",
       "      <td>NaN</td>\n",
       "      <td>NaN</td>\n",
       "      <td>NaN</td>\n",
       "      <td>NaN</td>\n",
       "      <td>NaN</td>\n",
       "      <td>Dies in Secret Invasion V1:I8. Actually was se...</td>\n",
       "    </tr>\n",
       "    <tr>\n",
       "      <td>2</td>\n",
       "      <td>http://marvel.wikia.com/Anthony_Stark_(Earth-616)</td>\n",
       "      <td>Anthony Edward \"Tony\" Stark</td>\n",
       "      <td>3068</td>\n",
       "      <td>YES</td>\n",
       "      <td>MALE</td>\n",
       "      <td>NaN</td>\n",
       "      <td>Sep-63</td>\n",
       "      <td>1963</td>\n",
       "      <td>52</td>\n",
       "      <td>Full</td>\n",
       "      <td>...</td>\n",
       "      <td>YES</td>\n",
       "      <td>NaN</td>\n",
       "      <td>NaN</td>\n",
       "      <td>NaN</td>\n",
       "      <td>NaN</td>\n",
       "      <td>NaN</td>\n",
       "      <td>NaN</td>\n",
       "      <td>NaN</td>\n",
       "      <td>NaN</td>\n",
       "      <td>Death: \"Later while under the influence of Imm...</td>\n",
       "    </tr>\n",
       "    <tr>\n",
       "      <td>3</td>\n",
       "      <td>http://marvel.wikia.com/Robert_Bruce_Banner_(E...</td>\n",
       "      <td>Robert Bruce Banner</td>\n",
       "      <td>2089</td>\n",
       "      <td>YES</td>\n",
       "      <td>MALE</td>\n",
       "      <td>NaN</td>\n",
       "      <td>Sep-63</td>\n",
       "      <td>1963</td>\n",
       "      <td>52</td>\n",
       "      <td>Full</td>\n",
       "      <td>...</td>\n",
       "      <td>YES</td>\n",
       "      <td>NaN</td>\n",
       "      <td>NaN</td>\n",
       "      <td>NaN</td>\n",
       "      <td>NaN</td>\n",
       "      <td>NaN</td>\n",
       "      <td>NaN</td>\n",
       "      <td>NaN</td>\n",
       "      <td>NaN</td>\n",
       "      <td>Dies in Ghosts of the Future arc. However \"he ...</td>\n",
       "    </tr>\n",
       "    <tr>\n",
       "      <td>4</td>\n",
       "      <td>http://marvel.wikia.com/Thor_Odinson_(Earth-616)</td>\n",
       "      <td>Thor Odinson</td>\n",
       "      <td>2402</td>\n",
       "      <td>YES</td>\n",
       "      <td>MALE</td>\n",
       "      <td>NaN</td>\n",
       "      <td>Sep-63</td>\n",
       "      <td>1963</td>\n",
       "      <td>52</td>\n",
       "      <td>Full</td>\n",
       "      <td>...</td>\n",
       "      <td>YES</td>\n",
       "      <td>YES</td>\n",
       "      <td>NO</td>\n",
       "      <td>NaN</td>\n",
       "      <td>NaN</td>\n",
       "      <td>NaN</td>\n",
       "      <td>NaN</td>\n",
       "      <td>NaN</td>\n",
       "      <td>NaN</td>\n",
       "      <td>Dies in Fear Itself brought back because that'...</td>\n",
       "    </tr>\n",
       "  </tbody>\n",
       "</table>\n",
       "<p>5 rows × 21 columns</p>\n",
       "</div>"
      ],
      "text/plain": [
       "                                                 URL  \\\n",
       "0      http://marvel.wikia.com/Henry_Pym_(Earth-616)   \n",
       "1  http://marvel.wikia.com/Janet_van_Dyne_(Earth-...   \n",
       "2  http://marvel.wikia.com/Anthony_Stark_(Earth-616)   \n",
       "3  http://marvel.wikia.com/Robert_Bruce_Banner_(E...   \n",
       "4   http://marvel.wikia.com/Thor_Odinson_(Earth-616)   \n",
       "\n",
       "                    Name/Alias  Appearances Current?  Gender  \\\n",
       "0    Henry Jonathan \"Hank\" Pym         1269      YES    MALE   \n",
       "1               Janet van Dyne         1165      YES  FEMALE   \n",
       "2  Anthony Edward \"Tony\" Stark         3068      YES    MALE   \n",
       "3          Robert Bruce Banner         2089      YES    MALE   \n",
       "4                 Thor Odinson         2402      YES    MALE   \n",
       "\n",
       "  Probationary Introl Full/Reserve Avengers Intro  Year  Years since joining  \\\n",
       "0                 NaN                      Sep-63  1963                   52   \n",
       "1                 NaN                      Sep-63  1963                   52   \n",
       "2                 NaN                      Sep-63  1963                   52   \n",
       "3                 NaN                      Sep-63  1963                   52   \n",
       "4                 NaN                      Sep-63  1963                   52   \n",
       "\n",
       "  Honorary  ... Return1 Death2 Return2 Death3 Return3 Death4 Return4 Death5  \\\n",
       "0     Full  ...      NO    NaN     NaN    NaN     NaN    NaN     NaN    NaN   \n",
       "1     Full  ...     YES    NaN     NaN    NaN     NaN    NaN     NaN    NaN   \n",
       "2     Full  ...     YES    NaN     NaN    NaN     NaN    NaN     NaN    NaN   \n",
       "3     Full  ...     YES    NaN     NaN    NaN     NaN    NaN     NaN    NaN   \n",
       "4     Full  ...     YES    YES      NO    NaN     NaN    NaN     NaN    NaN   \n",
       "\n",
       "  Return5                                              Notes  \n",
       "0     NaN  Merged with Ultron in Rage of Ultron Vol. 1. A...  \n",
       "1     NaN  Dies in Secret Invasion V1:I8. Actually was se...  \n",
       "2     NaN  Death: \"Later while under the influence of Imm...  \n",
       "3     NaN  Dies in Ghosts of the Future arc. However \"he ...  \n",
       "4     NaN  Dies in Fear Itself brought back because that'...  \n",
       "\n",
       "[5 rows x 21 columns]"
      ]
     },
     "execution_count": 5,
     "metadata": {},
     "output_type": "execute_result"
    }
   ],
   "source": [
    "avengers.head()"
   ]
  },
  {
   "cell_type": "markdown",
   "metadata": {},
   "source": [
    "<h2>Jumlah Anggota Yang Masih Hidup</h2>"
   ]
  },
  {
   "cell_type": "code",
   "execution_count": 6,
   "metadata": {},
   "outputs": [],
   "source": [
    "anggota_awal = len(avengers)\n",
    "pengurangan_1 = len(avengers[avengers['Death1'] == 'YES']) - len(avengers[avengers['Return1'] == 'YES'])\n",
    "pengurangan_2 = len(avengers[avengers['Death2'] == 'YES']) - len(avengers[avengers['Return2'] == 'YES'])\n",
    "pengurangan_3 = len(avengers[avengers['Death3'] == 'YES']) - len(avengers[avengers['Return3'] == 'YES'])\n",
    "pengurangan_4 = len(avengers[avengers['Death4'] == 'YES']) - len(avengers[avengers['Return4'] == 'YES'])\n",
    "pengurangan_5 = len(avengers[avengers['Death5'] == 'YES']) - len(avengers[avengers['Return5'] == 'YES'])"
   ]
  },
  {
   "cell_type": "code",
   "execution_count": 7,
   "metadata": {},
   "outputs": [
    {
     "name": "stdout",
     "output_type": "stream",
     "text": [
      "141\n"
     ]
    }
   ],
   "source": [
    "jumlah_anggota = anggota_awal - pengurangan_1 - pengurangan_2 - pengurangan_3 - pengurangan_4 - pengurangan_5\n",
    "print(jumlah_anggota)"
   ]
  },
  {
   "cell_type": "markdown",
   "metadata": {},
   "source": [
    "<h5>ANALISIS: Jumlah anggota Avengers yang masih hidup ada 141 anggota</h5>"
   ]
  },
  {
   "cell_type": "markdown",
   "metadata": {},
   "source": [
    "<h2>Jumlah Anggota Avengers Berdasarkan Gender</h2>"
   ]
  },
  {
   "cell_type": "code",
   "execution_count": 8,
   "metadata": {},
   "outputs": [
    {
     "data": {
      "text/plain": [
       "MALE      115\n",
       "FEMALE     58\n",
       "Name: Gender, dtype: int64"
      ]
     },
     "execution_count": 8,
     "metadata": {},
     "output_type": "execute_result"
    }
   ],
   "source": [
    "avengers['Gender'].value_counts()"
   ]
  },
  {
   "cell_type": "code",
   "execution_count": 9,
   "metadata": {},
   "outputs": [
    {
     "data": {
      "text/plain": [
       "<matplotlib.axes._subplots.AxesSubplot at 0x1cf85ed5470>"
      ]
     },
     "execution_count": 9,
     "metadata": {},
     "output_type": "execute_result"
    },
    {
     "data": {
      "image/png": "[encoded data removed]",
      "text/plain": [
       "<Figure size 432x288 with 1 Axes>"
      ]
     },
     "metadata": {
      "needs_background": "light"
     },
     "output_type": "display_data"
    }
   ],
   "source": [
    "sns.countplot(x='Gender', data=avengers)"
   ]
  },
  {
   "cell_type": "markdown",
   "metadata": {},
   "source": [
    "<h5>ANALISIS: Jumlah anggota Avengers laki-laki lebih banyak dibandingkan anggota wanita yaitu sebanyak 115 sedangkan anggota wanita berjumlah 58</h5>"
   ]
  },
  {
   "cell_type": "markdown",
   "metadata": {},
   "source": [
    "<h2>5 Anggota Avengers Paling Sering Tampil</h2>"
   ]
  },
  {
   "cell_type": "code",
   "execution_count": 10,
   "metadata": {
    "scrolled": true
   },
   "outputs": [
    {
     "data": {
      "text/html": [
       "<div>\n",
       "<style scoped>\n",
       "    .dataframe tbody tr th:only-of-type {\n",
       "        vertical-align: middle;\n",
       "    }\n",
       "\n",
       "    .dataframe tbody tr th {\n",
       "        vertical-align: top;\n",
       "    }\n",
       "\n",
       "    .dataframe thead th {\n",
       "        text-align: right;\n",
       "    }\n",
       "</style>\n",
       "<table border=\"1\" class=\"dataframe\">\n",
       "  <thead>\n",
       "    <tr style=\"text-align: right;\">\n",
       "      <th></th>\n",
       "      <th>Name/Alias</th>\n",
       "      <th>Appearances</th>\n",
       "    </tr>\n",
       "  </thead>\n",
       "  <tbody>\n",
       "    <tr>\n",
       "      <td>73</td>\n",
       "      <td>Peter Benjamin Parker</td>\n",
       "      <td>4333</td>\n",
       "    </tr>\n",
       "    <tr>\n",
       "      <td>6</td>\n",
       "      <td>Steven Rogers</td>\n",
       "      <td>3458</td>\n",
       "    </tr>\n",
       "    <tr>\n",
       "      <td>92</td>\n",
       "      <td>James \"Logan\" Howlett</td>\n",
       "      <td>3130</td>\n",
       "    </tr>\n",
       "    <tr>\n",
       "      <td>2</td>\n",
       "      <td>Anthony Edward \"Tony\" Stark</td>\n",
       "      <td>3068</td>\n",
       "    </tr>\n",
       "    <tr>\n",
       "      <td>4</td>\n",
       "      <td>Thor Odinson</td>\n",
       "      <td>2402</td>\n",
       "    </tr>\n",
       "  </tbody>\n",
       "</table>\n",
       "</div>"
      ],
      "text/plain": [
       "                     Name/Alias  Appearances\n",
       "73        Peter Benjamin Parker         4333\n",
       "6                 Steven Rogers         3458\n",
       "92        James \"Logan\" Howlett         3130\n",
       "2   Anthony Edward \"Tony\" Stark         3068\n",
       "4                  Thor Odinson         2402"
      ]
     },
     "execution_count": 10,
     "metadata": {},
     "output_type": "execute_result"
    }
   ],
   "source": [
    "avengers.sort_values(by=['Appearances'], ascending=False).head(5)[['Name/Alias', 'Appearances']]"
   ]
  },
  {
   "cell_type": "markdown",
   "metadata": {},
   "source": [
    "<h5>ANALISIS: Diketahui 5 karakter yang paling sering tampil di komik marvel adalah Peter Benjamin Parker (Spiderman), Steven Rogers (Captain America), James \"Logan\" Howlett (Wolverine), Anthony Edward \"Tony\" Stark (Iron Man), dan Thor Odinson (Thor) "
   ]
  },
  {
   "cell_type": "markdown",
   "metadata": {},
   "source": [
    "<h2>5 Anggota Avengers Paling Senior</h2>"
   ]
  },
  {
   "cell_type": "code",
   "execution_count": 11,
   "metadata": {},
   "outputs": [
    {
     "data": {
      "text/html": [
       "<div>\n",
       "<style scoped>\n",
       "    .dataframe tbody tr th:only-of-type {\n",
       "        vertical-align: middle;\n",
       "    }\n",
       "\n",
       "    .dataframe tbody tr th {\n",
       "        vertical-align: top;\n",
       "    }\n",
       "\n",
       "    .dataframe thead th {\n",
       "        text-align: right;\n",
       "    }\n",
       "</style>\n",
       "<table border=\"1\" class=\"dataframe\">\n",
       "  <thead>\n",
       "    <tr style=\"text-align: right;\">\n",
       "      <th></th>\n",
       "      <th>Name/Alias</th>\n",
       "      <th>Years since joining</th>\n",
       "    </tr>\n",
       "  </thead>\n",
       "  <tbody>\n",
       "    <tr>\n",
       "      <td>0</td>\n",
       "      <td>Henry Jonathan \"Hank\" Pym</td>\n",
       "      <td>52</td>\n",
       "    </tr>\n",
       "    <tr>\n",
       "      <td>1</td>\n",
       "      <td>Janet van Dyne</td>\n",
       "      <td>52</td>\n",
       "    </tr>\n",
       "    <tr>\n",
       "      <td>2</td>\n",
       "      <td>Anthony Edward \"Tony\" Stark</td>\n",
       "      <td>52</td>\n",
       "    </tr>\n",
       "    <tr>\n",
       "      <td>3</td>\n",
       "      <td>Robert Bruce Banner</td>\n",
       "      <td>52</td>\n",
       "    </tr>\n",
       "    <tr>\n",
       "      <td>4</td>\n",
       "      <td>Thor Odinson</td>\n",
       "      <td>52</td>\n",
       "    </tr>\n",
       "  </tbody>\n",
       "</table>\n",
       "</div>"
      ],
      "text/plain": [
       "                    Name/Alias  Years since joining\n",
       "0    Henry Jonathan \"Hank\" Pym                   52\n",
       "1               Janet van Dyne                   52\n",
       "2  Anthony Edward \"Tony\" Stark                   52\n",
       "3          Robert Bruce Banner                   52\n",
       "4                 Thor Odinson                   52"
      ]
     },
     "execution_count": 11,
     "metadata": {},
     "output_type": "execute_result"
    }
   ],
   "source": [
    "avengers.sort_values(by=['Years since joining'], ascending=False).head(5)[['Name/Alias', 'Years since joining']]"
   ]
  },
  {
   "cell_type": "markdown",
   "metadata": {},
   "source": [
    "<h5>ANALISIS: Diketahui 5 karakter yang paling senior di komik marvel adalah Henry Jonathan \"Hank\" Pym (Ant-Man), Janet van Dyne (The Wasp), Anthony Edward \"Tony\" Stark (Iron Man), Robert Bruce Banner (Hulk), Thor Odinson (Thor)"
   ]
  },
  {
   "cell_type": "markdown",
   "metadata": {},
   "source": [
    "<h2>Jumlah Anggota Avengers Berdasarkan Status Keanggotaannya</h2>"
   ]
  },
  {
   "cell_type": "code",
   "execution_count": 12,
   "metadata": {},
   "outputs": [
    {
     "data": {
      "text/plain": [
       "Full            138\n",
       "Academy          17\n",
       "Honorary         16\n",
       "Probationary      2\n",
       "Name: Honorary, dtype: int64"
      ]
     },
     "execution_count": 12,
     "metadata": {},
     "output_type": "execute_result"
    }
   ],
   "source": [
    "avengers['Honorary'].value_counts()"
   ]
  },
  {
   "cell_type": "code",
   "execution_count": 13,
   "metadata": {},
   "outputs": [
    {
     "data": {
      "text/plain": [
       "<matplotlib.axes._subplots.AxesSubplot at 0x1cf85fd84e0>"
      ]
     },
     "execution_count": 13,
     "metadata": {},
     "output_type": "execute_result"
    },
    {
     "data": {
      "image/png": "[encoded data removed]",
      "text/plain": [
       "<Figure size 432x288 with 1 Axes>"
      ]
     },
     "metadata": {
      "needs_background": "light"
     },
     "output_type": "display_data"
    }
   ],
   "source": [
    "sns.countplot(x='Honorary', data=avengers)"
   ]
  },
  {
   "cell_type": "markdown",
   "metadata": {},
   "source": [
    "<h5>ANALISIS: Status anggota Avengers yang 'Full' berjumlah 138, 'Honorary' berjumlah 16, 'Probarionary' berjumlah 2, dan 'Academy' berjumlah 17.</h5>"
   ]
  },
  {
   "cell_type": "markdown",
   "metadata": {},
   "source": [
    "<h2>Sebaran Jumlah Tampil Berdasarkan Status Keanggotaan</h2>"
   ]
  },
  {
   "cell_type": "code",
   "execution_count": 14,
   "metadata": {},
   "outputs": [
    {
     "data": {
      "text/plain": [
       "<matplotlib.axes._subplots.AxesSubplot at 0x1cf86059f60>"
      ]
     },
     "execution_count": 14,
     "metadata": {},
     "output_type": "execute_result"
    },
    {
     "data": {
      "image/png": "[encoded data removed]",
      "text/plain": [
       "<Figure size 432x288 with 1 Axes>"
      ]
     },
     "metadata": {
      "needs_background": "light"
     },
     "output_type": "display_data"
    }
   ],
   "source": [
    "sns.boxplot(x='Honorary', y='Appearances', data=avengers)"
   ]
  },
  {
   "cell_type": "code",
   "execution_count": 15,
   "metadata": {},
   "outputs": [
    {
     "data": {
      "text/plain": [
       "<matplotlib.axes._subplots.AxesSubplot at 0x1cf860fe978>"
      ]
     },
     "execution_count": 15,
     "metadata": {},
     "output_type": "execute_result"
    },
    {
     "data": {
      "image/png": "[encoded data removed]",
      "text/plain": [
       "<Figure size 432x288 with 1 Axes>"
      ]
     },
     "metadata": {
      "needs_background": "light"
     },
     "output_type": "display_data"
    }
   ],
   "source": [
    "sns.swarmplot(x='Honorary', y='Appearances', data=avengers)"
   ]
  },
  {
   "cell_type": "code",
   "execution_count": 16,
   "metadata": {},
   "outputs": [
    {
     "data": {
      "text/plain": [
       "<seaborn.axisgrid.FacetGrid at 0x1cf86174828>"
      ]
     },
     "execution_count": 16,
     "metadata": {},
     "output_type": "execute_result"
    },
    {
     "data": {
      "image/png": "[encoded data removed]",
      "text/plain": [
       "<Figure size 864x216 with 4 Axes>"
      ]
     },
     "metadata": {
      "needs_background": "light"
     },
     "output_type": "display_data"
    }
   ],
   "source": [
    "g = sns.FacetGrid(data=avengers, col='Honorary')\n",
    "g.map(sns.distplot, 'Appearances')"
   ]
  },
  {
   "cell_type": "markdown",
   "metadata": {},
   "source": [
    "<h2>Korelasi Antara Lamanya Bergabung Dengan Jumlah Tampil</h2>"
   ]
  },
  {
   "cell_type": "code",
   "execution_count": 17,
   "metadata": {},
   "outputs": [
    {
     "data": {
      "text/html": [
       "<div>\n",
       "<style scoped>\n",
       "    .dataframe tbody tr th:only-of-type {\n",
       "        vertical-align: middle;\n",
       "    }\n",
       "\n",
       "    .dataframe tbody tr th {\n",
       "        vertical-align: top;\n",
       "    }\n",
       "\n",
       "    .dataframe thead th {\n",
       "        text-align: right;\n",
       "    }\n",
       "</style>\n",
       "<table border=\"1\" class=\"dataframe\">\n",
       "  <thead>\n",
       "    <tr style=\"text-align: right;\">\n",
       "      <th></th>\n",
       "      <th>Appearances</th>\n",
       "      <th>Years since joining</th>\n",
       "    </tr>\n",
       "  </thead>\n",
       "  <tbody>\n",
       "    <tr>\n",
       "      <td>Appearances</td>\n",
       "      <td>1.000000</td>\n",
       "      <td>0.377827</td>\n",
       "    </tr>\n",
       "    <tr>\n",
       "      <td>Years since joining</td>\n",
       "      <td>0.377827</td>\n",
       "      <td>1.000000</td>\n",
       "    </tr>\n",
       "  </tbody>\n",
       "</table>\n",
       "</div>"
      ],
      "text/plain": [
       "                     Appearances  Years since joining\n",
       "Appearances             1.000000             0.377827\n",
       "Years since joining     0.377827             1.000000"
      ]
     },
     "execution_count": 17,
     "metadata": {},
     "output_type": "execute_result"
    }
   ],
   "source": [
    "avengers[['Appearances','Years since joining']].corr(method='pearson')"
   ]
  },
  {
   "cell_type": "markdown",
   "metadata": {},
   "source": [
    "<h5>ANALISIS: Nilai kolerasi antara lamanya join dengan jumlah tampil menggunakan metode parson didapat 0.377827 menunjukan tingkat kolerasi antara 2 hal tersebut moderat atau sedang</h5>\n",
    "\n",
    "Sumber: <a href=\"https://www.statisticssolutions.com/pearsons-correlation-coefficient/\">Kolerasi Pearson</a>"
   ]
  },
  {
   "cell_type": "markdown",
   "metadata": {},
   "source": [
    "<h2>Sebaran Status Keanggotaan Berdasarkan Lamanya Bergabung</h2>"
   ]
  },
  {
   "cell_type": "code",
   "execution_count": 18,
   "metadata": {},
   "outputs": [
    {
     "data": {
      "text/plain": [
       "<matplotlib.axes._subplots.AxesSubplot at 0x1cf8635fcf8>"
      ]
     },
     "execution_count": 18,
     "metadata": {},
     "output_type": "execute_result"
    },
    {
     "data": {
      "image/png": "[encoded data removed]",
      "text/plain": [
       "<Figure size 432x288 with 1 Axes>"
      ]
     },
     "metadata": {
      "needs_background": "light"
     },
     "output_type": "display_data"
    }
   ],
   "source": [
    "sns.boxplot(y='Honorary', x='Years since joining', data=avengers)"
   ]
  },
  {
   "cell_type": "markdown",
   "metadata": {},
   "source": [
    "<h2>Distribusi Tahun Anggota Bergabung</h2>"
   ]
  },
  {
   "cell_type": "code",
   "execution_count": 19,
   "metadata": {
    "scrolled": true
   },
   "outputs": [
    {
     "data": {
      "text/plain": [
       "<matplotlib.axes._subplots.AxesSubplot at 0x1cf863efc18>"
      ]
     },
     "execution_count": 19,
     "metadata": {},
     "output_type": "execute_result"
    },
    {
     "data": {
      "image/png": "[encoded data removed]",
      "text/plain": [
       "<Figure size 432x288 with 1 Axes>"
      ]
     },
     "metadata": {
      "needs_background": "light"
     },
     "output_type": "display_data"
    }
   ],
   "source": [
    "sns.distplot(avengers['Year'])"
   ]
  },
  {
   "cell_type": "markdown",
   "metadata": {},
   "source": [
    "| 2019 Dicky Faisal Dramar |\n",
    "| --- |"
   ]
  }
 ],
 "metadata": {
  "kernelspec": {
   "display_name": "Python 3",
   "language": "python",
   "name": "python3"
  },
  "language_info": {
   "codemirror_mode": {
    "name": "ipython",
    "version": 3
   },
   "file_extension": ".py",
   "mimetype": "text/x-python",
   "name": "python",
   "nbconvert_exporter": "python",
   "pygments_lexer": "ipython3",
   "version": "3.7.3"
  }
 },
 "nbformat": 4,
 "nbformat_minor": 2
}
